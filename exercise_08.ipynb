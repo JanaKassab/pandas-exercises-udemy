{
  "nbformat": 4,
  "nbformat_minor": 0,
  "metadata": {
    "colab": {
      "provenance": [],
      "authorship_tag": "ABX9TyPTkfVqFZpS5K5KkTbi4z69",
      "include_colab_link": true
    },
    "kernelspec": {
      "name": "python3",
      "display_name": "Python 3"
    },
    "language_info": {
      "name": "python"
    }
  },
  "cells": [
    {
      "cell_type": "markdown",
      "metadata": {
        "id": "view-in-github",
        "colab_type": "text"
      },
      "source": [
        "<a href=\"https://colab.research.google.com/github/JanaKassab/pandas-exercises-udemy/blob/main/exercise_08.ipynb\" target=\"_parent\"><img src=\"https://colab.research.google.com/assets/colab-badge.svg\" alt=\"Open In Colab\"/></a>"
      ]
    },
    {
      "cell_type": "markdown",
      "source": [
        "# **Exercise 08:**\n",
        "\n",
        "Convert the following *quotations Series*:\n",
        "```\n",
        "stocks = {\n",
        "    'PLW': 387.00,\n",
        "    'CDR': 339.5,\n",
        "    'TEN': 349.5,\n",
        "    '11B': 391.0,\n",
        "    'BBT': 25.5,\n",
        "    'F51': 19.2\n",
        "}\n",
        "quotations = pd.Series(data=stocks)\n",
        "```\n",
        "to *DataFrame*. Reset the index and name the columns `'ticker'` and `'price'` respectively.\n",
        "\n",
        "In response, print this *DataFrame* to the console.\n",
        "\n",
        "**Expected result:**\n",
        "```\n",
        "  ticker  price\n",
        "0    PLW  387.0\n",
        "1    CDR  339.5\n",
        "2    TEN  349.5\n",
        "3    11B  391.0\n",
        "4    BBT   25.5\n",
        "5    F51   19.2\n",
        "\n",
        "```\n"
      ],
      "metadata": {
        "id": "Jn72wnhqFzRr"
      }
    },
    {
      "cell_type": "code",
      "execution_count": 3,
      "metadata": {
        "colab": {
          "base_uri": "https://localhost:8080/"
        },
        "id": "iPlsCeN-FWNM",
        "outputId": "6ef9eef2-d8d9-4b4b-b5d7-fff5506c878f"
      },
      "outputs": [
        {
          "output_type": "stream",
          "name": "stdout",
          "text": [
            "  ticker  price\n",
            "0    PLW  387.0\n",
            "1    CDR  339.5\n",
            "2    TEN  349.5\n",
            "3    11B  391.0\n",
            "4    BBT   25.5\n",
            "5    F51   19.2\n"
          ]
        }
      ],
      "source": [
        "import pandas as pd\n",
        "\n",
        "\n",
        "stocks = {\n",
        "    'PLW': 387.00,\n",
        "    'CDR': 339.5,\n",
        "    'TEN': 349.5,\n",
        "    '11B': 391.0,\n",
        "    'BBT': 25.5,\n",
        "    'F51': 19.2\n",
        "}\n",
        "quotations = pd.Series(data=stocks)\n",
        "quotations = pd.DataFrame(quotations).reset_index()\n",
        "quotations.columns = ['ticker', 'price']\n",
        "print(quotations)"
      ]
    }
  ]
}