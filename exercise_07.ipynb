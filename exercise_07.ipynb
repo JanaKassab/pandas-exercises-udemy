{
  "nbformat": 4,
  "nbformat_minor": 0,
  "metadata": {
    "colab": {
      "provenance": [],
      "authorship_tag": "ABX9TyORKkYtwdxcEbe5T7crzgqL",
      "include_colab_link": true
    },
    "kernelspec": {
      "name": "python3",
      "display_name": "Python 3"
    },
    "language_info": {
      "name": "python"
    }
  },
  "cells": [
    {
      "cell_type": "markdown",
      "metadata": {
        "id": "view-in-github",
        "colab_type": "text"
      },
      "source": [
        "<a href=\"https://colab.research.google.com/github/JanaKassab/pandas-exercises-udemy/blob/main/exercise_07.ipynb\" target=\"_parent\"><img src=\"https://colab.research.google.com/assets/colab-badge.svg\" alt=\"Open In Colab\"/></a>"
      ]
    },
    {
      "cell_type": "markdown",
      "source": [
        "# **Exercise 07:**\n",
        "\n",
        "The following *quotations Series* is given:\n",
        "```\n",
        "stocks = {'PLW': 387.00, 'CDR': 339.5, 'TEN': 349.5, '11B': 391.0}\n",
        "quotations = pd.Series(data=stocks)\n",
        "\n",
        "```\n",
        "Add two elements to this Series:\n",
        "*   key: `'BBT'`, value: 25.5\n",
        "*   key: `'F51'`, value: 19.2\n",
        "\n",
        "In response, print *quotations Series* to the console.\n",
        "\n",
        "**Expected result:**\n",
        "```\n",
        "PLW    387.0\n",
        "CDR    339.5\n",
        "TEN    349.5\n",
        "11B    391.0\n",
        "BBT     25.5\n",
        "F51     19.2\n",
        "dtype: float64\n",
        "\n",
        "```\n"
      ],
      "metadata": {
        "id": "E6R5HrRWWCq1"
      }
    },
    {
      "cell_type": "code",
      "execution_count": 7,
      "metadata": {
        "colab": {
          "base_uri": "https://localhost:8080/"
        },
        "id": "joWdjcj5V7RF",
        "outputId": "ffa31a96-bce8-4acd-d900-e33275dffc4b"
      },
      "outputs": [
        {
          "output_type": "stream",
          "name": "stdout",
          "text": [
            "PLW    387.0\n",
            "CDR    339.5\n",
            "TEN    349.5\n",
            "11B    391.0\n",
            "BBT     25.5\n",
            "F51     19.2\n",
            "dtype: float64\n"
          ]
        }
      ],
      "source": [
        "import pandas as pd\n",
        "\n",
        "# Initial dictionary where keys represent stock symbols and values represent their respective prices\n",
        "stocks = {'PLW': 387.00, 'CDR': 339.5, 'TEN': 349.5, '11B': 391.0}\n",
        "\n",
        "# Converting the dictionary into a pandas Series where the keys become the index and values become the data points\n",
        "quotations = pd.Series(data=stocks)\n",
        "\n",
        "# Defining another Series to store additional stock prices (new stocks being added to the original Series)\n",
        "new_quotations = pd.Series({'BBT': 25.5, 'F51': 19.2})\n",
        "\n",
        "# Combining the two Series objects using pd.concat()\n",
        "# pd.concat() takes a list of Series and concatenates them vertically (default behavior)\n",
        "# This method is preferred over append(), which has been deprecated\n",
        "quotations = pd.concat([quotations, new_quotations])\n",
        "\n",
        "# Outputting the final Series, which now includes both the original stock prices and the newly added ones\n",
        "print(quotations)\n"
      ]
    }
  ]
}