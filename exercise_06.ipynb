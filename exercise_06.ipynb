{
  "nbformat": 4,
  "nbformat_minor": 0,
  "metadata": {
    "colab": {
      "provenance": [],
      "authorship_tag": "ABX9TyOGbrq/Q7GmrpU+07k8MvNc",
      "include_colab_link": true
    },
    "kernelspec": {
      "name": "python3",
      "display_name": "Python 3"
    },
    "language_info": {
      "name": "python"
    }
  },
  "cells": [
    {
      "cell_type": "markdown",
      "metadata": {
        "id": "view-in-github",
        "colab_type": "text"
      },
      "source": [
        "<a href=\"https://colab.research.google.com/github/JanaKassab/pandas-exercises-udemy/blob/main/exercise_06.ipynb\" target=\"_parent\"><img src=\"https://colab.research.google.com/assets/colab-badge.svg\" alt=\"Open In Colab\"/></a>"
      ]
    },
    {
      "cell_type": "markdown",
      "source": [
        "# **Exercise 06:**\n",
        "\n",
        "The following *Series* is given:\n",
        "```\n",
        "series = pd.Series(['001', '002', '003', '004'], list('abcd'))\n",
        "\n",
        "```\n",
        "Convert its type to *int* and print this *Series* to the console.\n",
        "\n",
        "**Expected result:**\n",
        "```\n",
        "a    1\n",
        "b    2\n",
        "c    3\n",
        "d    4\n",
        "dtype: int64\n",
        "```\n"
      ],
      "metadata": {
        "id": "CsCvDivvRekL"
      }
    },
    {
      "cell_type": "code",
      "execution_count": 4,
      "metadata": {
        "colab": {
          "base_uri": "https://localhost:8080/"
        },
        "id": "ebX8cl8RRTfI",
        "outputId": "cccd64d4-914d-42d6-9ffc-b4d164c188a8"
      },
      "outputs": [
        {
          "output_type": "stream",
          "name": "stdout",
          "text": [
            "a    1\n",
            "b    2\n",
            "c    3\n",
            "d    4\n",
            "dtype: int64\n"
          ]
        }
      ],
      "source": [
        "# Importing the pandas library as 'pd' for data manipulation and analysis\n",
        "import pandas as pd\n",
        "\n",
        "# Creating a pandas Series object\n",
        "# The data consists of a list of strings ['001', '002', '003', '004']\n",
        "# The index is created using the list function with 'abcd' to assign 'a', 'b', 'c', 'd' as indices\n",
        "# The astype(int) method is used to convert the string values to integers\n",
        "series = pd.Series(['001', '002', '003', '004'], list('abcd')).astype(int)\n",
        "\n",
        "# Alternative method:\n",
        "# The same result can be achieved using the pd.to_numeric() function\n",
        "# or series = pd.to_numeric(series)\n",
        "\n",
        "# Printing the created Series object to the console\n",
        "print(series)\n"
      ]
    }
  ]
}