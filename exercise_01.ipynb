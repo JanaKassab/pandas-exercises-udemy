{
  "nbformat": 4,
  "nbformat_minor": 0,
  "metadata": {
    "colab": {
      "provenance": [],
      "authorship_tag": "ABX9TyP0Y7FjDxTpYdq6Kyeqd5ER",
      "include_colab_link": true
    },
    "kernelspec": {
      "name": "python3",
      "display_name": "Python 3"
    },
    "language_info": {
      "name": "python"
    }
  },
  "cells": [
    {
      "cell_type": "markdown",
      "metadata": {
        "id": "view-in-github",
        "colab_type": "text"
      },
      "source": [
        "<a href=\"https://colab.research.google.com/github/JanaKassab/pandas-exercises-udemy/blob/main/exercise_01.ipynb\" target=\"_parent\"><img src=\"https://colab.research.google.com/assets/colab-badge.svg\" alt=\"Open In Colab\"/></a>"
      ]
    },
    {
      "cell_type": "markdown",
      "source": [
        "# **Exercise 01:**\n",
        "\n",
        "Using *pandas*, from the list below:\n",
        "\n",
        "```\n",
        "stocks = ['PLW', 'CDR', '11B', 'TEN']\n",
        "```\n",
        "\n",
        "create a *Series* object and print it to the console.\n",
        "\n",
        "**Expected result:**\n",
        "```\n",
        " 0   PLW  \n",
        " 1   CDR  \n",
        " 2   11B  \n",
        " 3   TEN  \n",
        " dtype: object\n",
        "\n",
        "```\n",
        "\n",
        "\n",
        "\n",
        "\n",
        "\n"
      ],
      "metadata": {
        "id": "c6O2eN6rr7Cb"
      }
    },
    {
      "cell_type": "code",
      "source": [
        "# Importing the pandas library, which provides powerful data manipulation tools.\n",
        "import pandas as pd\n",
        "\n",
        "# Defining a list of stock symbols.\n",
        "stocks = ['PLW', 'CDR', '11B', 'TEN']\n",
        "\n",
        "# Creating a pandas Series from the list of stocks and printing it.\n",
        "# The Series is a one-dimensional labeled array, where each item in the list\n",
        "# gets an automatically assigned index.\n",
        "print(pd.Series(data=stocks))\n"
      ],
      "metadata": {
        "colab": {
          "base_uri": "https://localhost:8080/"
        },
        "id": "iizmFlRrvj2_",
        "outputId": "da65c959-3faf-4f65-e15b-a5821761a075"
      },
      "execution_count": 4,
      "outputs": [
        {
          "output_type": "stream",
          "name": "stdout",
          "text": [
            "0    PLW\n",
            "1    CDR\n",
            "2    11B\n",
            "3    TEN\n",
            "dtype: object\n"
          ]
        }
      ]
    }
  ]
}