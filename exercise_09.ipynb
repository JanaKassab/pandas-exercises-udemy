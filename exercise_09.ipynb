{
  "nbformat": 4,
  "nbformat_minor": 0,
  "metadata": {
    "colab": {
      "provenance": [],
      "authorship_tag": "ABX9TyNB+1ZLBumqCWfK543wmMdd",
      "include_colab_link": true
    },
    "kernelspec": {
      "name": "python3",
      "display_name": "Python 3"
    },
    "language_info": {
      "name": "python"
    }
  },
  "cells": [
    {
      "cell_type": "markdown",
      "metadata": {
        "id": "view-in-github",
        "colab_type": "text"
      },
      "source": [
        "<a href=\"https://colab.research.google.com/github/JanaKassab/pandas-exercises-udemy/blob/main/exercise_09.ipynb\" target=\"_parent\"><img src=\"https://colab.research.google.com/assets/colab-badge.svg\" alt=\"Open In Colab\"/></a>"
      ]
    },
    {
      "cell_type": "markdown",
      "source": [
        "# **Exercise 09:**\n",
        "\n",
        "Create the following *DataFrame* object and assign it to the *companies* variable:\n",
        "```\n",
        "     company   price   ticker\n",
        "0     Amazon  2375.0  AMZN.US\n",
        "1  Microsoft   178.6  MSFT.US\n",
        "2   Facebook   179.2    FB.US\n",
        "\n",
        "```\n",
        "In response, print *companies DataFrame* to the console.\n"
      ],
      "metadata": {
        "id": "gc5Wk32sWVO4"
      }
    },
    {
      "cell_type": "code",
      "execution_count": 2,
      "metadata": {
        "colab": {
          "base_uri": "https://localhost:8080/"
        },
        "id": "S7d_g5hGWJGM",
        "outputId": "d23ec8ef-fc54-45f6-bd95-a85fd2811005"
      },
      "outputs": [
        {
          "output_type": "stream",
          "name": "stdout",
          "text": [
            "     company   price   ticker\n",
            "0     Amazon  2375.0  AMZN.US\n",
            "1  Microsoft   178.6  MSFT.US\n",
            "2   Facebook   179.2    FB.US\n"
          ]
        }
      ],
      "source": [
        "# Import the pandas library, commonly abbreviated as 'pd'\n",
        "import pandas as pd\n",
        "\n",
        "# Create a DataFrame called 'companies' using a dictionary\n",
        "# The dictionary consists of three key-value pairs:\n",
        "# - 'company': a list of company names (Amazon, Microsoft, Facebook)\n",
        "# - 'price': a list of stock prices corresponding to each company\n",
        "# - 'ticker': a list of stock tickers for each company (ticker symbols followed by '.US')\n",
        "companies = pd.DataFrame({\n",
        "    'company': ['Amazon', 'Microsoft', 'Facebook'],  # Column for company names\n",
        "    'price': [2375.0, 178.6, 179.2],                 # Column for their respective stock prices\n",
        "    'ticker': ['AMZN.US', 'MSFT.US', 'FB.US']        # Column for their stock ticker symbols\n",
        "})\n",
        "\n",
        "# Print the 'companies' DataFrame to display the tabular data in a structured format\n",
        "print(companies)\n"
      ]
    }
  ]
}