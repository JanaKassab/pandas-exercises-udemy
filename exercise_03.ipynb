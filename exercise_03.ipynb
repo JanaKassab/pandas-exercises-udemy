{
  "nbformat": 4,
  "nbformat_minor": 0,
  "metadata": {
    "colab": {
      "provenance": [],
      "authorship_tag": "ABX9TyNWJHCxDKVpjKqMXRLqSbgi",
      "include_colab_link": true
    },
    "kernelspec": {
      "name": "python3",
      "display_name": "Python 3"
    },
    "language_info": {
      "name": "python"
    }
  },
  "cells": [
    {
      "cell_type": "markdown",
      "metadata": {
        "id": "view-in-github",
        "colab_type": "text"
      },
      "source": [
        "<a href=\"https://colab.research.google.com/github/JanaKassab/pandas-exercises-udemy/blob/main/exercise_03.ipynb\" target=\"_parent\"><img src=\"https://colab.research.google.com/assets/colab-badge.svg\" alt=\"Open In Colab\"/></a>"
      ]
    },
    {
      "cell_type": "markdown",
      "source": [
        "# **Exercise 03:**\n",
        "\n",
        "The following *Series* is given (quotations variable):\n",
        "```\n",
        "stocks = {'PLW': 387.00, 'CDR': 339.5, 'TEN': 349.5, '11B': 391.0}\n",
        "quotations = pd.Series(data=stocks)\n",
        "```\n",
        "\n",
        "Convert quotations to the list and print it to the console.\n",
        "\n",
        "**Expected result:**\n",
        "```\n",
        "[387.0, 339.5, 349.5, 391.0]\n",
        "\n",
        "```"
      ],
      "metadata": {
        "id": "u-2VkWcd_-ft"
      }
    },
    {
      "cell_type": "code",
      "source": [
        "# Importing the pandas library, which provides powerful data manipulation and analysis tools.\n",
        "import pandas as pd\n",
        "\n",
        "# Defining a dictionary where stock symbols are keys and their corresponding prices are the values.\n",
        "stocks = {'PLW': 387.00, 'CDR': 339.5, 'TEN': 349.5, '11B': 391.0}\n",
        "\n",
        "# Creating a pandas Series from the dictionary.\n",
        "# In the Series, stock symbols become the index and the stock prices are the data values.\n",
        "quotations = pd.Series(data=stocks)\n",
        "\n",
        "# Converting the Series to a list of stock prices using the .tolist() method and printing the result.\n",
        "print(quotations.tolist())\n"
      ],
      "metadata": {
        "colab": {
          "base_uri": "https://localhost:8080/"
        },
        "collapsed": true,
        "id": "PZnfm15wAeva",
        "outputId": "3d0e7434-e9d0-49b5-beb6-a99d203c4d1c"
      },
      "execution_count": 2,
      "outputs": [
        {
          "output_type": "stream",
          "name": "stdout",
          "text": [
            "[387.0, 339.5, 349.5, 391.0]\n"
          ]
        }
      ]
    }
  ]
}