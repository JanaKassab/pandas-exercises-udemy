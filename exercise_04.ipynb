{
  "nbformat": 4,
  "nbformat_minor": 0,
  "metadata": {
    "colab": {
      "provenance": [],
      "authorship_tag": "ABX9TyMK0AZUHT6kKDaOQb4lhgoM",
      "include_colab_link": true
    },
    "kernelspec": {
      "name": "python3",
      "display_name": "Python 3"
    },
    "language_info": {
      "name": "python"
    }
  },
  "cells": [
    {
      "cell_type": "markdown",
      "metadata": {
        "id": "view-in-github",
        "colab_type": "text"
      },
      "source": [
        "<a href=\"https://colab.research.google.com/github/JanaKassab/pandas-exercises-udemy/blob/main/exercise_04.ipynb\" target=\"_parent\"><img src=\"https://colab.research.google.com/assets/colab-badge.svg\" alt=\"Open In Colab\"/></a>"
      ]
    },
    {
      "cell_type": "markdown",
      "source": [
        "# **Exercise 04:**\n",
        "\n",
        "The following *Series* is given (quotations variable):\n",
        "\n",
        "```\n",
        "stocks = {'PLW': 387.00, 'CDR': 339.5, 'TEN': 349.5, '11B': 391.0}\n",
        "quotations = pd.Series(data=stocks)\n",
        "```\n",
        "\n",
        "Convert the *quotations* to the *DataFrame* and set the column name to `price`. In response, print this *DataFrame* to the console.\n",
        "\n",
        "**Expected output:**\n",
        "```\n",
        "     price\n",
        "PLW  387.0\n",
        "CDR  339.5\n",
        "TEN  349.5\n",
        "11B  391.0\n",
        "\n",
        "```"
      ],
      "metadata": {
        "id": "jAB2r-jCDaye"
      }
    },
    {
      "cell_type": "code",
      "execution_count": 7,
      "metadata": {
        "colab": {
          "base_uri": "https://localhost:8080/"
        },
        "id": "ZSxQAnXtDZSK",
        "outputId": "abf3f11e-eff1-44c3-d3e1-cb92cf861055"
      },
      "outputs": [
        {
          "output_type": "stream",
          "name": "stdout",
          "text": [
            "     price\n",
            "PLW  387.0\n",
            "CDR  339.5\n",
            "TEN  349.5\n",
            "11B  391.0\n"
          ]
        }
      ],
      "source": [
        "# Importing the pandas library, which provides powerful data manipulation and analysis tools.\n",
        "import pandas as pd\n",
        "\n",
        "# Defining a dictionary where stock symbols are keys and their corresponding prices are the values.\n",
        "stocks = {'PLW': 387.00, 'CDR': 339.5, 'TEN': 349.5, '11B': 391.0}\n",
        "\n",
        "# Creating a pandas Series from the dictionary.\n",
        "# In the Series, stock symbols become the index and the stock prices are the data values.\n",
        "quotations = pd.Series(data=stocks)\n",
        "\n",
        "# Converting the Series into a DataFrame.\n",
        "# The DataFrame allows for more complex data structures, here we're setting the column name to 'price'.\n",
        "quotations = pd.DataFrame(quotations, columns=['price'])\n",
        "\n",
        "# Printing the DataFrame, which now displays the stock symbols as the index\n",
        "# and their corresponding prices in a column named 'price'.\n",
        "print(quotations)\n",
        "\n"
      ]
    }
  ]
}