{
  "nbformat": 4,
  "nbformat_minor": 0,
  "metadata": {
    "colab": {
      "provenance": [],
      "authorship_tag": "ABX9TyO6BcZIVPRSKsixwXG8RUPz",
      "include_colab_link": true
    },
    "kernelspec": {
      "name": "python3",
      "display_name": "Python 3"
    },
    "language_info": {
      "name": "python"
    }
  },
  "cells": [
    {
      "cell_type": "markdown",
      "metadata": {
        "id": "view-in-github",
        "colab_type": "text"
      },
      "source": [
        "<a href=\"https://colab.research.google.com/github/JanaKassab/pandas-exercises-udemy/blob/main/exercise_10.ipynb\" target=\"_parent\"><img src=\"https://colab.research.google.com/assets/colab-badge.svg\" alt=\"Open In Colab\"/></a>"
      ]
    },
    {
      "cell_type": "markdown",
      "source": [
        "# **Exercise 10:**\n",
        "\n",
        "Convert the first column of the *companies DataFrame* to index. In response, print *companies DataFrame* to the console.\n",
        "\n",
        "**Expexted result:**\n",
        "```\n",
        "            price   ticker\n",
        "company                   \n",
        "Amazon     2375.0  AMZN.US\n",
        "Microsoft   178.6  MSFT.US\n",
        "Facebook    179.2    FB.U\n",
        "\n",
        "```\n",
        "In response, print *companies DataFrame* to the console."
      ],
      "metadata": {
        "id": "j8I8WXa5Xfrd"
      }
    },
    {
      "cell_type": "code",
      "execution_count": 1,
      "metadata": {
        "colab": {
          "base_uri": "https://localhost:8080/"
        },
        "id": "RNJ8_SnuXYA1",
        "outputId": "8dddd106-0e81-4df5-8965-62657bb415f4"
      },
      "outputs": [
        {
          "output_type": "stream",
          "name": "stdout",
          "text": [
            "            price   ticker\n",
            "company                   \n",
            "Amazon     2375.0  AMZN.US\n",
            "Microsoft   178.6  MSFT.US\n",
            "Facebook    179.2    FB.US\n"
          ]
        }
      ],
      "source": [
        "# Import the pandas library, using the alias 'pd' for convenience\n",
        "import pandas as pd\n",
        "\n",
        "# Create a dictionary called 'data_dict' that holds data about companies\n",
        "# - 'company': a list of company names\n",
        "# - 'price': a list of stock prices for each company\n",
        "# - 'ticker': a list of stock ticker symbols\n",
        "data_dict = {\n",
        "    'company': ['Amazon', 'Microsoft', 'Facebook'],  # Names of the companies\n",
        "    'price': [2375.00, 178.6, 179.2],                # Corresponding stock prices\n",
        "    'ticker': ['AMZN.US', 'MSFT.US', 'FB.US']        # Stock ticker symbols for each company\n",
        "}\n",
        "\n",
        "# Convert the dictionary 'data_dict' into a pandas DataFrame\n",
        "# The 'set_index()' method is used to set the 'company' column as the index of the DataFrame\n",
        "companies = pd.DataFrame(data=data_dict).set_index('company')\n",
        "\n",
        "# Print the resulting DataFrame, which now has the 'company' column as the index\n",
        "print(companies)\n"
      ]
    }
  ]
}