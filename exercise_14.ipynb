{
  "nbformat": 4,
  "nbformat_minor": 0,
  "metadata": {
    "colab": {
      "provenance": [],
      "authorship_tag": "ABX9TyM8rb+MahS16j/tceKExtwp",
      "include_colab_link": true
    },
    "kernelspec": {
      "name": "python3",
      "display_name": "Python 3"
    },
    "language_info": {
      "name": "python"
    }
  },
  "cells": [
    {
      "cell_type": "markdown",
      "metadata": {
        "id": "view-in-github",
        "colab_type": "text"
      },
      "source": [
        "<a href=\"https://colab.research.google.com/github/JanaKassab/pandas-exercises-udemy/blob/main/exercise_14.ipynb\" target=\"_parent\"><img src=\"https://colab.research.google.com/assets/colab-badge.svg\" alt=\"Open In Colab\"/></a>"
      ]
    },
    {
      "cell_type": "markdown",
      "source": [
        "# **Exercise 14:**\n",
        "\n",
        "Create the following *DataFrame* object and print it to the console.\n",
        "\n",
        "**Expexted result:**\n",
        "```\n",
        "             day    day_of_year\n",
        " 0    2021-03-01    60\n",
        " 1    2021-03-02    61\n",
        " 2    2021-03-03    62\n",
        " 3    2021-03-04    63\n",
        " 4    2021-03-05    64\n",
        " 5    2021-03-06    65\n",
        " 6    2021-03-07    66\n",
        " 7    2021-03-08    67\n",
        " 8    2021-03-09    68\n",
        " 9    2021-03-10    69\n",
        "10    2021-03-11    70\n",
        "11    2021-03-12    71\n",
        "12    2021-03-13    72\n",
        "13    2021-03-14    73\n",
        "14    2021-03-15    74\n",
        "15    2021-03-16    75\n",
        "16    2021-03-17    76\n",
        "17    2021-03-18    77\n",
        "18    2021-03-19    78\n",
        "19    2021-03-20    79\n",
        "20    2021-03-21    80\n",
        "21    2021-03-22    81\n",
        "22    2021-03-23    82\n",
        "23    2021-03-24    83\n",
        "24    2021-03-25    84\n",
        "25    2021-03-26    85\n",
        "26    2021-03-27    86\n",
        "27    2021-03-28    87\n",
        "28    2021-03-29    88\n",
        "29    2021-03-30    89\n",
        "30    2021-03-31    90\n",
        "\n",
        "```\n",
        "\n",
        "Tip: The *day* column contains dates from March 1, 2021 to March 31, 2021. The column *day_of_year* is the day number of the whole year.\n",
        "\n",
        "\n"
      ],
      "metadata": {
        "id": "1Srw7_1bh8LT"
      }
    },
    {
      "cell_type": "code",
      "execution_count": 4,
      "metadata": {
        "colab": {
          "base_uri": "https://localhost:8080/"
        },
        "id": "OFUYr33Lh5zX",
        "outputId": "5dd00f18-8014-4a98-b277-b5d2d5e5a251"
      },
      "outputs": [
        {
          "output_type": "stream",
          "name": "stdout",
          "text": [
            "          day  day_of_year\n",
            "0  2021-03-01           60\n",
            "1  2021-03-02           61\n",
            "2  2021-03-03           62\n",
            "3  2021-03-04           63\n",
            "4  2021-03-05           64\n",
            "5  2021-03-06           65\n",
            "6  2021-03-07           66\n",
            "7  2021-03-08           67\n",
            "8  2021-03-09           68\n",
            "9  2021-03-10           69\n",
            "10 2021-03-11           70\n",
            "11 2021-03-12           71\n",
            "12 2021-03-13           72\n",
            "13 2021-03-14           73\n",
            "14 2021-03-15           74\n",
            "15 2021-03-16           75\n",
            "16 2021-03-17           76\n",
            "17 2021-03-18           77\n",
            "18 2021-03-19           78\n",
            "19 2021-03-20           79\n",
            "20 2021-03-21           80\n",
            "21 2021-03-22           81\n",
            "22 2021-03-23           82\n",
            "23 2021-03-24           83\n",
            "24 2021-03-25           84\n",
            "25 2021-03-26           85\n",
            "26 2021-03-27           86\n",
            "27 2021-03-28           87\n",
            "28 2021-03-29           88\n",
            "29 2021-03-30           89\n",
            "30 2021-03-31           90\n"
          ]
        }
      ],
      "source": [
        "# Import the pandas library, aliasing it as 'pd' for convenience\n",
        "import pandas as pd\n",
        "\n",
        "# Generate a range of dates using 'pd.date_range()' function\n",
        "# The 'start' parameter defines the starting date ('2021-03-01')\n",
        "# The 'periods' parameter specifies the number of dates to generate (31 days in this case)\n",
        "# Since no 'freq' is specified, the default frequency is daily ('D')\n",
        "date_range = pd.date_range(start='2021-03-01', periods=31)\n",
        "\n",
        "# Create a DataFrame from the date_range array, with the column named 'day'\n",
        "df = pd.DataFrame(data=date_range, columns=['day'])\n",
        "\n",
        "# Add a new column 'day_of_year' to the DataFrame\n",
        "# The '.dt.dayofyear' attribute extracts the day of the year for each date in the 'day' column\n",
        "df['day_of_year'] = df['day'].dt.day_of_year\n",
        "\n",
        "# Print the DataFrame to display both the dates and their corresponding day of the year\n",
        "print(df)\n"
      ]
    }
  ]
}