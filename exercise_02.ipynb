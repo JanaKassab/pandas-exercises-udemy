{
  "nbformat": 4,
  "nbformat_minor": 0,
  "metadata": {
    "colab": {
      "provenance": [],
      "authorship_tag": "ABX9TyM/NsfOQvb+mPQ3WRitXBpp",
      "include_colab_link": true
    },
    "kernelspec": {
      "name": "python3",
      "display_name": "Python 3"
    },
    "language_info": {
      "name": "python"
    }
  },
  "cells": [
    {
      "cell_type": "markdown",
      "metadata": {
        "id": "view-in-github",
        "colab_type": "text"
      },
      "source": [
        "<a href=\"https://colab.research.google.com/github/JanaKassab/pandas-exercises-udemy/blob/main/exercise_02.ipynb\" target=\"_parent\"><img src=\"https://colab.research.google.com/assets/colab-badge.svg\" alt=\"Open In Colab\"/></a>"
      ]
    },
    {
      "cell_type": "markdown",
      "source": [
        "# **Exercise 02:**\n",
        "\n",
        "Using *pandas*, from the dictionary below:\n",
        "```\n",
        "stocks = {'PLW': 387.00, 'CDR': 339.5, 'TEN': 349.5, '11B': 391.0}\n",
        "```\n",
        "\n",
        "create a *Series* object and assign it to the quotations variable. In response, print quotations variable to the console.\n",
        "\n",
        "**Expected result:**\n",
        "```\n",
        "PLW    387.0\n",
        "CDR    339.5\n",
        "TEN    349.5\n",
        "11B    391.0\n",
        "dtype: float64\n",
        "\n",
        "\n",
        "```"
      ],
      "metadata": {
        "id": "Tu2gW6t_8XL1"
      }
    },
    {
      "cell_type": "code",
      "source": [
        "# Importing the pandas library, which provides powerful data manipulation and analysis tools.\n",
        "import pandas as pd\n",
        "\n",
        "# Defining a dictionary where stock symbols are keys and their prices are the values.\n",
        "stocks = {'PLW': 387.00, 'CDR': 339.5, 'TEN': 349.5, '11B': 391.0}\n",
        "\n",
        "# Creating a pandas Series from the dictionary, where the stock symbols become the index and their corresponding prices are the data values.\n",
        "quotations = pd.Series(data=stocks)\n",
        "\n",
        "# Printing the Series, which will display stock symbols along with their prices.\n",
        "print(quotations)\n"
      ],
      "metadata": {
        "colab": {
          "base_uri": "https://localhost:8080/"
        },
        "collapsed": true,
        "id": "Ma80Q4KG9Hwv",
        "outputId": "ab231235-faac-486d-a830-6c82f7115ba8"
      },
      "execution_count": 2,
      "outputs": [
        {
          "output_type": "stream",
          "name": "stdout",
          "text": [
            "PLW    387.0\n",
            "CDR    339.5\n",
            "TEN    349.5\n",
            "11B    391.0\n",
            "dtype: float64\n"
          ]
        }
      ]
    }
  ]
}