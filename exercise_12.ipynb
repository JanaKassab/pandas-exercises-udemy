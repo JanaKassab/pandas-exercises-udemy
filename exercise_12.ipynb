{
  "nbformat": 4,
  "nbformat_minor": 0,
  "metadata": {
    "colab": {
      "provenance": [],
      "authorship_tag": "ABX9TyMk0n+n1OAloDQKIgE8J7oq",
      "include_colab_link": true
    },
    "kernelspec": {
      "name": "python3",
      "display_name": "Python 3"
    },
    "language_info": {
      "name": "python"
    }
  },
  "cells": [
    {
      "cell_type": "markdown",
      "metadata": {
        "id": "view-in-github",
        "colab_type": "text"
      },
      "source": [
        "<a href=\"https://colab.research.google.com/github/JanaKassab/pandas-exercises-udemy/blob/main/exercise_12.ipynb\" target=\"_parent\"><img src=\"https://colab.research.google.com/assets/colab-badge.svg\" alt=\"Open In Colab\"/></a>"
      ]
    },
    {
      "cell_type": "markdown",
      "source": [
        "# **Exercise 12:**\n",
        "\n",
        "Create the *DatetimeIndex* object containing the dates in the `yyyy-mm-dd` format for all Mondays from 2020 and assign it to the *date_range* variable. Print this variable to the console.\n",
        "\n",
        "**Expexted result:**\n",
        "```\n",
        "  DatetimeIndex(['2020-01-06', '2020-01-13', '2020-01-20', '2020-01-27',\n",
        "               '2020-02-03', '2020-02-10', '2020-02-17', '2020-02-24',\n",
        "               '2020-03-02', '2020-03-09', '2020-03-16', '2020-03-23',\n",
        "               '2020-03-30', '2020-04-06', '2020-04-13', '2020-04-20',\n",
        "               '2020-04-27', '2020-05-04', '2020-05-11', '2020-05-18',\n",
        "               '2020-05-25', '2020-06-01', '2020-06-08', '2020-06-15',\n",
        "               '2020-06-22', '2020-06-29', '2020-07-06', '2020-07-13',\n",
        "               '2020-07-20', '2020-07-27', '2020-08-03', '2020-08-10',\n",
        "               '2020-08-17', '2020-08-24', '2020-08-31', '2020-09-07',\n",
        "               '2020-09-14', '2020-09-21', '2020-09-28', '2020-10-05',\n",
        "               '2020-10-12', '2020-10-19', '2020-10-26', '2020-11-02',\n",
        "               '2020-11-09', '2020-11-16', '2020-11-23', '2020-11-30',\n",
        "               '2020-12-07', '2020-12-14', '2020-12-21', '2020-12-28'],\n",
        "              dtype='datetime64[ns]', freq='W-MON')\n",
        "```\n"
      ],
      "metadata": {
        "id": "q58ukhbvcZAD"
      }
    },
    {
      "cell_type": "code",
      "execution_count": 2,
      "metadata": {
        "colab": {
          "base_uri": "https://localhost:8080/"
        },
        "id": "Rpslq2nmcUP7",
        "outputId": "99845ae8-76da-490f-b4ef-32ecc94bbe2f"
      },
      "outputs": [
        {
          "output_type": "stream",
          "name": "stdout",
          "text": [
            "DatetimeIndex(['2020-01-06', '2020-01-13', '2020-01-20', '2020-01-27',\n",
            "               '2020-02-03', '2020-02-10', '2020-02-17', '2020-02-24',\n",
            "               '2020-03-02', '2020-03-09', '2020-03-16', '2020-03-23',\n",
            "               '2020-03-30', '2020-04-06', '2020-04-13', '2020-04-20',\n",
            "               '2020-04-27', '2020-05-04', '2020-05-11', '2020-05-18',\n",
            "               '2020-05-25', '2020-06-01', '2020-06-08', '2020-06-15',\n",
            "               '2020-06-22', '2020-06-29', '2020-07-06', '2020-07-13',\n",
            "               '2020-07-20', '2020-07-27', '2020-08-03', '2020-08-10',\n",
            "               '2020-08-17', '2020-08-24', '2020-08-31', '2020-09-07',\n",
            "               '2020-09-14', '2020-09-21', '2020-09-28', '2020-10-05',\n",
            "               '2020-10-12', '2020-10-19', '2020-10-26', '2020-11-02',\n",
            "               '2020-11-09', '2020-11-16', '2020-11-23', '2020-11-30',\n",
            "               '2020-12-07', '2020-12-14', '2020-12-21', '2020-12-28'],\n",
            "              dtype='datetime64[ns]', freq='W-MON')\n"
          ]
        }
      ],
      "source": [
        "# Import the pandas library, aliasing it as 'pd' for convenience\n",
        "import pandas as pd\n",
        "\n",
        "# Generate a range of dates using the 'pd.date_range()' function\n",
        "# The 'start' parameter defines the starting date ('2020-01-01')\n",
        "# The 'end' parameter defines the ending date ('2020-12-31')\n",
        "# The 'freq' parameter specifies the frequency of the dates in the range\n",
        "# 'W-MON' means the frequency is weekly, and the dates will be every Monday\n",
        "# This will generate a sequence of Mondays between January 1, 2020, and December 31, 2020\n",
        "date_range = pd.date_range(start='2020-01-01', end='2020-12-31', freq='W-MON')\n",
        "\n",
        "# Print the generated date range, which will be an array-like structure of Mondays within the date range\n",
        "print(date_range)\n"
      ]
    }
  ]
}