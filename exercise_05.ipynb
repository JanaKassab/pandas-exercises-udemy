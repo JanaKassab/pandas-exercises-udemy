{
  "nbformat": 4,
  "nbformat_minor": 0,
  "metadata": {
    "colab": {
      "provenance": [],
      "authorship_tag": "ABX9TyML0ACRc3PPcYEGH1SOrOZP",
      "include_colab_link": true
    },
    "kernelspec": {
      "name": "python3",
      "display_name": "Python 3"
    },
    "language_info": {
      "name": "python"
    }
  },
  "cells": [
    {
      "cell_type": "markdown",
      "metadata": {
        "id": "view-in-github",
        "colab_type": "text"
      },
      "source": [
        "<a href=\"https://colab.research.google.com/github/JanaKassab/pandas-exercises-udemy/blob/main/exercise_05.ipynb\" target=\"_parent\"><img src=\"https://colab.research.google.com/assets/colab-badge.svg\" alt=\"Open In Colab\"/></a>"
      ]
    },
    {
      "cell_type": "markdown",
      "source": [
        "# **Exercise 05:**\n",
        "\n",
        "Using the *num*py and *pandas* to create the following Series:\n",
        "\n",
        "```\n",
        "101    10.0\n",
        "102    20.0\n",
        "103    30.0\n",
        "104    40.0\n",
        "105    50.0\n",
        "106    60.0\n",
        "107    70.0\n",
        "108    80.0\n",
        "109    90.0\n",
        "dtype: float64\n",
        "\n",
        "```\n",
        "In response, print this *Series* to the console.\n"
      ],
      "metadata": {
        "id": "R5UmKubWhNuE"
      }
    },
    {
      "cell_type": "code",
      "execution_count": 1,
      "metadata": {
        "colab": {
          "base_uri": "https://localhost:8080/"
        },
        "id": "i1rgsBUeg5nf",
        "outputId": "ed9edf86-cde8-4bbd-c460-1b0cf95defb0"
      },
      "outputs": [
        {
          "output_type": "stream",
          "name": "stdout",
          "text": [
            "101    10.0\n",
            "102    20.0\n",
            "103    30.0\n",
            "104    40.0\n",
            "105    50.0\n",
            "106    60.0\n",
            "107    70.0\n",
            "108    80.0\n",
            "109    90.0\n",
            "dtype: float64\n"
          ]
        }
      ],
      "source": [
        "# Importing the NumPy library as 'np' for numerical operations\n",
        "import numpy as np\n",
        "\n",
        "# Importing the pandas library as 'pd' for data manipulation and analysis\n",
        "import pandas as pd\n",
        "\n",
        "# Creating a pandas Series object\n",
        "# The data for the Series is generated using NumPy's arange function, which creates a sequence of numbers from 10 to 90 (step of 10)\n",
        "# The index for the Series is specified as another sequence using NumPy's arange, which creates values from 101 to 109\n",
        "# The dtype argument is used to specify that the data type for the Series should be float\n",
        "s = pd.Series(\n",
        "    data=np.arange(10, 100, 10),  # Data: [10, 20, 30, ..., 90]\n",
        "    index=np.arange(101, 110),    # Index: [101, 102, ..., 109]\n",
        "    dtype='float'                 # Data type: float\n",
        ")\n",
        "\n",
        "# Printing the created Series object to the console\n",
        "print(s)\n"
      ]
    }
  ]
}