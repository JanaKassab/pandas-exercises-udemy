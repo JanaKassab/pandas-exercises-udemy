{
  "nbformat": 4,
  "nbformat_minor": 0,
  "metadata": {
    "colab": {
      "provenance": [],
      "authorship_tag": "ABX9TyNTnicLBFty+/AOoqdgfi2J",
      "include_colab_link": true
    },
    "kernelspec": {
      "name": "python3",
      "display_name": "Python 3"
    },
    "language_info": {
      "name": "python"
    }
  },
  "cells": [
    {
      "cell_type": "markdown",
      "metadata": {
        "id": "view-in-github",
        "colab_type": "text"
      },
      "source": [
        "<a href=\"https://colab.research.google.com/github/JanaKassab/pandas-exercises-udemy/blob/main/exercise_13.ipynb\" target=\"_parent\"><img src=\"https://colab.research.google.com/assets/colab-badge.svg\" alt=\"Open In Colab\"/></a>"
      ]
    },
    {
      "cell_type": "markdown",
      "source": [
        "# **Exercise 13:**\n",
        "\n",
        "Create the *DatetimeIndex* object containing the dates in the format `yyyy-mm-dd hh: mm: ss` for January 1, 2021 with a time interval of 1h and assign to the variable *date_range*. In response, print this variable to the console.\n",
        "\n",
        "**Expexted result:**\n",
        "```\n",
        "  DatetimeIndex(['2021-01-01 00:00:00', '2021-01-01 01:00:00',\n",
        "               '2021-01-01 02:00:00', '2021-01-01 03:00:00',\n",
        "               '2021-01-01 04:00:00', '2021-01-01 05:00:00',\n",
        "               '2021-01-01 06:00:00', '2021-01-01 07:00:00',\n",
        "               '2021-01-01 08:00:00', '2021-01-01 09:00:00',\n",
        "               '2021-01-01 10:00:00', '2021-01-01 11:00:00',\n",
        "               '2021-01-01 12:00:00', '2021-01-01 13:00:00',\n",
        "               '2021-01-01 14:00:00', '2021-01-01 15:00:00',\n",
        "               '2021-01-01 16:00:00', '2021-01-01 17:00:00',\n",
        "               '2021-01-01 18:00:00', '2021-01-01 19:00:00',\n",
        "               '2021-01-01 20:00:00', '2021-01-01 21:00:00',\n",
        "               '2021-01-01 22:00:00', '2021-01-01 23:00:00'],\n",
        "              dtype='datetime64[ns]', freq='H')\n",
        "\n",
        "```\n"
      ],
      "metadata": {
        "id": "0A1qOCAveLgh"
      }
    },
    {
      "cell_type": "code",
      "execution_count": 1,
      "metadata": {
        "colab": {
          "base_uri": "https://localhost:8080/"
        },
        "id": "9ZHjD8H7eGNP",
        "outputId": "76ab6367-a39c-4c37-b86c-733d42b96086"
      },
      "outputs": [
        {
          "output_type": "stream",
          "name": "stdout",
          "text": [
            "DatetimeIndex(['2021-01-01 00:00:00', '2021-01-01 01:00:00',\n",
            "               '2021-01-01 02:00:00', '2021-01-01 03:00:00',\n",
            "               '2021-01-01 04:00:00', '2021-01-01 05:00:00',\n",
            "               '2021-01-01 06:00:00', '2021-01-01 07:00:00',\n",
            "               '2021-01-01 08:00:00', '2021-01-01 09:00:00',\n",
            "               '2021-01-01 10:00:00', '2021-01-01 11:00:00',\n",
            "               '2021-01-01 12:00:00', '2021-01-01 13:00:00',\n",
            "               '2021-01-01 14:00:00', '2021-01-01 15:00:00',\n",
            "               '2021-01-01 16:00:00', '2021-01-01 17:00:00',\n",
            "               '2021-01-01 18:00:00', '2021-01-01 19:00:00',\n",
            "               '2021-01-01 20:00:00', '2021-01-01 21:00:00',\n",
            "               '2021-01-01 22:00:00', '2021-01-01 23:00:00'],\n",
            "              dtype='datetime64[ns]', freq='H')\n"
          ]
        }
      ],
      "source": [
        "# Import the pandas library and alias it as 'pd' for convenience\n",
        "import pandas as pd\n",
        "\n",
        "# Generate a range of dates using the 'pd.date_range()' function\n",
        "# The 'start' parameter specifies the starting date and time ('2021-01-01')\n",
        "# The 'periods' parameter defines the number of periods (24 hourly periods)\n",
        "# The 'freq' parameter specifies the frequency of the dates ('H' stands for hourly)\n",
        "# This will generate a sequence of 24 hourly timestamps starting from '2021-01-01 00:00:00'\n",
        "date_range = pd.date_range(start='2021-01-01', periods=24, freq='H')\n",
        "\n",
        "# Print the generated date range, which will be an array-like structure of 24 hourly timestamps\n",
        "print(date_range)\n"
      ]
    }
  ]
}